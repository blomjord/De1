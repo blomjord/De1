{
 "cells": [
  {
   "cell_type": "code",
   "execution_count": 1,
   "id": "40629de4-865f-406a-94fc-7dc529e01e04",
   "metadata": {},
   "outputs": [
    {
     "name": "stderr",
     "output_type": "stream",
     "text": [
      "Setting default log level to \"WARN\".\n",
      "To adjust logging level use sc.setLogLevel(newLevel). For SparkR, use setLogLevel(newLevel).\n",
      "24/02/21 22:01:12 WARN NativeCodeLoader: Unable to load native-hadoop library for your platform... using builtin-java classes where applicable\n",
      "24/02/21 22:01:12 WARN Utils: Service 'sparkDriver' could not bind on port 9999. Attempting port 10000.\n",
      "24/02/21 22:01:13 WARN Utils: Service 'SparkUI' could not bind on port 4040. Attempting port 4041.\n",
      "24/02/21 22:01:13 WARN Utils: Service 'org.apache.spark.network.netty.NettyBlockTransferService' could not bind on port 10005. Attempting port 10006.\n"
     ]
    }
   ],
   "source": [
    "from pyspark.sql import SparkSession\n",
    "from operator import add\n",
    "import re\n",
    "\n",
    "spark_session = SparkSession.builder\\\n",
    "        .master(\"spark://192.168.2.250:7077\") \\\n",
    "        .appName(\"A3_AN_Spark2\")\\\n",
    "        .config(\"spark.dynamicAllocation.enabled\", True)\\\n",
    "        .config(\"spark.dynamicAllocation.shuffleTracking.enabled\",True)\\\n",
    "        .config(\"spark.shuffle.service.enabled\", False)\\\n",
    "        .config(\"spark.dynamicAllocation.executorIdleTimeout\",\"30s\")\\\n",
    "        .config(\"spark.executor.cores\", 8)\\\n",
    "        .config(\"spark.driver.port\",9999)\\\n",
    "        .config(\"spark.blockManager.port\",10005)\\\n",
    "        .getOrCreate()\n",
    "\n",
    "# RDD API\n",
    "spark_context = spark_session.sparkContext\n",
    "\n",
    "spark_context.setLogLevel(\"INFO\")"
   ]
  },
  {
   "cell_type": "code",
   "execution_count": 2,
   "id": "8e58da3c-8763-40f2-a879-e557149da1cf",
   "metadata": {},
   "outputs": [
    {
     "name": "stderr",
     "output_type": "stream",
     "text": [
      "24/02/21 22:01:14 INFO SharedState: Setting hive.metastore.warehouse.dir ('null') to the value of spark.sql.warehouse.dir.\n",
      "24/02/21 22:01:14 INFO SharedState: Warehouse path is 'file:/home/ubuntu/DE1-spark/spark-warehouse'.\n",
      "24/02/21 22:01:15 INFO InMemoryFileIndex: It took 58 ms to list leaf files for 1 paths.\n",
      "24/02/21 22:01:15 INFO InMemoryFileIndex: It took 6 ms to list leaf files for 1 paths.\n",
      "24/02/21 22:01:16 INFO FileSourceStrategy: Pushed Filters: \n",
      "24/02/21 22:01:16 INFO FileSourceStrategy: Post-Scan Filters: (length(trim(value#0, None)) > 0)\n",
      "24/02/21 22:01:17 INFO CodeGenerator: Code generated in 150.574661 ms\n",
      "24/02/21 22:01:17 INFO MemoryStore: Block broadcast_0 stored as values in memory (estimated size 200.4 KiB, free 434.2 MiB)\n",
      "24/02/21 22:01:17 INFO MemoryStore: Block broadcast_0_piece0 stored as bytes in memory (estimated size 34.5 KiB, free 434.2 MiB)\n",
      "24/02/21 22:01:17 INFO BlockManagerInfo: Added broadcast_0_piece0 in memory on host-192-168-2-170-de1:10006 (size: 34.5 KiB, free: 434.4 MiB)\n",
      "24/02/21 22:01:17 INFO SparkContext: Created broadcast 0 from csv at NativeMethodAccessorImpl.java:0\n",
      "24/02/21 22:01:17 INFO FileSourceScanExec: Planning scan with bin packing, max size: 134217728 bytes, open cost is considered as scanning 4194304 bytes.\n",
      "24/02/21 22:01:17 INFO SparkContext: Starting job: csv at NativeMethodAccessorImpl.java:0\n",
      "24/02/21 22:01:17 INFO DAGScheduler: Got job 0 (csv at NativeMethodAccessorImpl.java:0) with 1 output partitions\n",
      "24/02/21 22:01:17 INFO DAGScheduler: Final stage: ResultStage 0 (csv at NativeMethodAccessorImpl.java:0)\n",
      "24/02/21 22:01:17 INFO DAGScheduler: Parents of final stage: List()\n",
      "24/02/21 22:01:17 INFO DAGScheduler: Missing parents: List()\n",
      "24/02/21 22:01:17 INFO DAGScheduler: Submitting ResultStage 0 (MapPartitionsRDD[3] at csv at NativeMethodAccessorImpl.java:0), which has no missing parents\n",
      "24/02/21 22:01:17 INFO MemoryStore: Block broadcast_1 stored as values in memory (estimated size 13.5 KiB, free 434.2 MiB)\n",
      "24/02/21 22:01:17 INFO MemoryStore: Block broadcast_1_piece0 stored as bytes in memory (estimated size 6.4 KiB, free 434.2 MiB)\n",
      "24/02/21 22:01:17 INFO BlockManagerInfo: Added broadcast_1_piece0 in memory on host-192-168-2-170-de1:10006 (size: 6.4 KiB, free: 434.4 MiB)\n",
      "24/02/21 22:01:17 INFO SparkContext: Created broadcast 1 from broadcast at DAGScheduler.scala:1580\n",
      "24/02/21 22:01:17 INFO DAGScheduler: Submitting 1 missing tasks from ResultStage 0 (MapPartitionsRDD[3] at csv at NativeMethodAccessorImpl.java:0) (first 15 tasks are for partitions Vector(0))\n",
      "24/02/21 22:01:17 INFO TaskSchedulerImpl: Adding task set 0.0 with 1 tasks resource profile 0\n",
      "24/02/21 22:01:18 INFO StandaloneAppClient$ClientEndpoint: Executor added: app-20240221220113-1392/0 on worker-20240221103734-192.168.2.253-37859 (192.168.2.253:37859) with 8 core(s)\n",
      "24/02/21 22:01:18 INFO ExecutorAllocationManager: Requesting 1 new executor because tasks are backlogged (new desired total will be 1 for resource profile id: 0)\n",
      "24/02/21 22:01:18 INFO StandaloneSchedulerBackend: Granted executor ID app-20240221220113-1392/0 on hostPort 192.168.2.253:37859 with 8 core(s), 1024.0 MiB RAM\n",
      "24/02/21 22:01:18 INFO StandaloneAppClient$ClientEndpoint: Executor updated: app-20240221220113-1392/0 is now RUNNING\n",
      "24/02/21 22:01:20 INFO StandaloneSchedulerBackend$StandaloneDriverEndpoint: Registered executor NettyRpcEndpointRef(spark-client://Executor) (192.168.2.253:48826) with ID 0,  ResourceProfileId 0\n",
      "24/02/21 22:01:20 INFO ExecutorMonitor: New executor 0 has registered (new total is 1)\n",
      "24/02/21 22:01:20 INFO BlockManagerMasterEndpoint: Registering block manager 192.168.2.253:10005 with 434.4 MiB RAM, BlockManagerId(0, 192.168.2.253, 10005, None)\n",
      "24/02/21 22:01:20 INFO TaskSetManager: Starting task 0.0 in stage 0.0 (TID 0) (192.168.2.253, executor 0, partition 0, ANY, 8229 bytes) \n",
      "24/02/21 22:01:20 INFO BlockManagerInfo: Added broadcast_1_piece0 in memory on 192.168.2.253:10005 (size: 6.4 KiB, free: 434.4 MiB)\n",
      "24/02/21 22:01:21 INFO BlockManagerInfo: Added broadcast_0_piece0 in memory on 192.168.2.253:10005 (size: 34.5 KiB, free: 434.4 MiB)\n",
      "24/02/21 22:01:21 INFO TaskSetManager: Finished task 0.0 in stage 0.0 (TID 0) in 1501 ms on 192.168.2.253 (executor 0) (1/1)\n",
      "24/02/21 22:01:21 INFO TaskSchedulerImpl: Removed TaskSet 0.0, whose tasks have all completed, from pool \n",
      "24/02/21 22:01:21 INFO DAGScheduler: ResultStage 0 (csv at NativeMethodAccessorImpl.java:0) finished in 4.640 s\n",
      "24/02/21 22:01:21 INFO DAGScheduler: Job 0 is finished. Cancelling potential speculative or zombie tasks for this job\n",
      "24/02/21 22:01:21 INFO TaskSchedulerImpl: Killing all running tasks in stage 0: Stage finished\n",
      "24/02/21 22:01:21 INFO DAGScheduler: Job 0 finished: csv at NativeMethodAccessorImpl.java:0, took 4.676981 s\n",
      "24/02/21 22:01:21 INFO CodeGenerator: Code generated in 10.137515 ms            \n",
      "24/02/21 22:01:22 INFO FileSourceStrategy: Pushed Filters: \n",
      "24/02/21 22:01:22 INFO FileSourceStrategy: Post-Scan Filters: \n",
      "24/02/21 22:01:22 INFO MemoryStore: Block broadcast_2 stored as values in memory (estimated size 200.4 KiB, free 434.0 MiB)\n",
      "24/02/21 22:01:22 INFO MemoryStore: Block broadcast_2_piece0 stored as bytes in memory (estimated size 34.5 KiB, free 433.9 MiB)\n",
      "24/02/21 22:01:22 INFO BlockManagerInfo: Added broadcast_2_piece0 in memory on host-192-168-2-170-de1:10006 (size: 34.5 KiB, free: 434.3 MiB)\n",
      "24/02/21 22:01:22 INFO SparkContext: Created broadcast 2 from csv at NativeMethodAccessorImpl.java:0\n",
      "24/02/21 22:01:22 INFO FileSourceScanExec: Planning scan with bin packing, max size: 134217728 bytes, open cost is considered as scanning 4194304 bytes.\n",
      "24/02/21 22:01:22 INFO BlockManagerInfo: Removed broadcast_1_piece0 on host-192-168-2-170-de1:10006 in memory (size: 6.4 KiB, free: 434.3 MiB)\n",
      "24/02/21 22:01:22 INFO BlockManagerInfo: Removed broadcast_1_piece0 on 192.168.2.253:10005 in memory (size: 6.4 KiB, free: 434.4 MiB)\n",
      "24/02/21 22:01:22 INFO FileSourceStrategy: Pushed Filters: \n",
      "24/02/21 22:01:22 INFO FileSourceStrategy: Post-Scan Filters: \n",
      "24/02/21 22:01:22 INFO CodeGenerator: Code generated in 34.190688 ms\n",
      "24/02/21 22:01:22 INFO MemoryStore: Block broadcast_3 stored as values in memory (estimated size 200.3 KiB, free 433.7 MiB)\n",
      "24/02/21 22:01:22 INFO BlockManagerInfo: Removed broadcast_2_piece0 on host-192-168-2-170-de1:10006 in memory (size: 34.5 KiB, free: 434.4 MiB)\n",
      "24/02/21 22:01:22 INFO MemoryStore: Block broadcast_3_piece0 stored as bytes in memory (estimated size 34.4 KiB, free 433.7 MiB)\n",
      "24/02/21 22:01:22 INFO BlockManagerInfo: Added broadcast_3_piece0 in memory on host-192-168-2-170-de1:10006 (size: 34.4 KiB, free: 434.3 MiB)\n",
      "24/02/21 22:01:22 INFO SparkContext: Created broadcast 3 from showString at NativeMethodAccessorImpl.java:0\n",
      "24/02/21 22:01:22 INFO FileSourceScanExec: Planning scan with bin packing, max size: 134217728 bytes, open cost is considered as scanning 4194304 bytes.\n",
      "24/02/21 22:01:22 INFO SparkContext: Starting job: showString at NativeMethodAccessorImpl.java:0\n",
      "24/02/21 22:01:22 INFO DAGScheduler: Got job 1 (showString at NativeMethodAccessorImpl.java:0) with 1 output partitions\n",
      "24/02/21 22:01:22 INFO DAGScheduler: Final stage: ResultStage 1 (showString at NativeMethodAccessorImpl.java:0)\n",
      "24/02/21 22:01:22 INFO DAGScheduler: Parents of final stage: List()\n",
      "24/02/21 22:01:22 INFO DAGScheduler: Missing parents: List()\n",
      "24/02/21 22:01:22 INFO DAGScheduler: Submitting ResultStage 1 (MapPartitionsRDD[13] at showString at NativeMethodAccessorImpl.java:0), which has no missing parents\n",
      "24/02/21 22:01:22 INFO MemoryStore: Block broadcast_4 stored as values in memory (estimated size 24.9 KiB, free 433.9 MiB)\n",
      "24/02/21 22:01:22 INFO MemoryStore: Block broadcast_4_piece0 stored as bytes in memory (estimated size 9.2 KiB, free 433.9 MiB)\n",
      "24/02/21 22:01:22 INFO BlockManagerInfo: Added broadcast_4_piece0 in memory on host-192-168-2-170-de1:10006 (size: 9.2 KiB, free: 434.3 MiB)\n",
      "24/02/21 22:01:22 INFO SparkContext: Created broadcast 4 from broadcast at DAGScheduler.scala:1580\n",
      "24/02/21 22:01:22 INFO DAGScheduler: Submitting 1 missing tasks from ResultStage 1 (MapPartitionsRDD[13] at showString at NativeMethodAccessorImpl.java:0) (first 15 tasks are for partitions Vector(0))\n",
      "24/02/21 22:01:22 INFO TaskSchedulerImpl: Adding task set 1.0 with 1 tasks resource profile 0\n",
      "24/02/21 22:01:22 INFO TaskSetManager: Starting task 0.0 in stage 1.0 (TID 1) (192.168.2.253, executor 0, partition 0, ANY, 8229 bytes) \n",
      "24/02/21 22:01:22 INFO BlockManagerInfo: Added broadcast_4_piece0 in memory on 192.168.2.253:10005 (size: 9.2 KiB, free: 434.4 MiB)\n"
     ]
    },
    {
     "name": "stdout",
     "output_type": "stream",
     "text": [
      "+-------------+--------------------+----------+--------+-----------+--------------+-----------------+----+----+----------+-----+--------------------+-----+------+--------------+--------------------+-----------+---------+---------+------------------+-----------------+--------------------+\n",
      "|          _c0|                 _c1|       _c2|     _c3|        _c4|           _c5|              _c6| _c7| _c8|       _c9| _c10|                _c11| _c12|  _c13|          _c14|                _c15|       _c16|     _c17|     _c18|              _c19|             _c20|                _c21|\n",
      "+-------------+--------------------+----------+--------+-----------+--------------+-----------------+----+----+----------+-----+--------------------+-----+------+--------------+--------------------+-----------+---------+---------+------------------+-----------------+--------------------+\n",
      "|Ticket number|          Issue Date|Issue time|Meter Id|Marked Time|RP State Plate|Plate Expiry Date| VIN|Make|Body Style|Color|            Location|Route|Agency|Violation code|Violation Descrip...|Fine amount| Latitude|Longitude|Agency Description|Color Description|Body Style Descri...|\n",
      "|   1103341116|2015-12-21T00:00:...|      1251|    NULL|       NULL|            CA|           200304|NULL|HOND|        PA|   GY|     13147 WELBY WAY|01521|     1|        4000A1|  NO EVIDENCE OF REG|         50|    99999|    99999|              NULL|             NULL|                NULL|\n",
      "|   1103700150|2015-12-21T00:00:...|      1435|    NULL|       NULL|            CA|           201512|NULL| GMC|        VN|   WH|       525 S MAIN ST| 1C51|     1|        4000A1|  NO EVIDENCE OF REG|         50|    99999|    99999|              NULL|             NULL|                NULL|\n",
      "|   1104803000|2015-12-21T00:00:...|      2055|    NULL|       NULL|            CA|           201503|NULL|NISS|        PA|   BK|       200 WORLD WAY|  2R2|     2|          8939|          WHITE CURB|         58|6439997.9|1802686.4|              NULL|             NULL|                NULL|\n",
      "|   1104820732|2015-12-26T00:00:...|      1515|    NULL|       NULL|            CA|             NULL|NULL|ACUR|        PA|   WH|       100 WORLD WAY| 2F11|     2|           000|              17104h|       NULL|6440041.1|1802686.2|              NULL|             NULL|                NULL|\n",
      "|   1105461453|2015-09-15T00:00:...|       115|    NULL|       NULL|            CA|           200316|NULL|CHEV|        PA|   BK|  GEORGIA ST/OLYMPIC|1FB70|     1|         8069A|NO STOPPING/STANDING|         93|    99999|    99999|              NULL|             NULL|                NULL|\n",
      "|   1106226590|2015-09-15T00:00:...|        19|    NULL|       NULL|            CA|           201507|NULL|CHEV|        VN|   GY|  SAN PEDRO S/O BOYD|1A35W|     1|        4000A1|  NO EVIDENCE OF REG|         50|    99999|    99999|              NULL|             NULL|                NULL|\n",
      "|   1106500452|2015-12-17T00:00:...|      1710|    NULL|       NULL|            CA|           201605|NULL|MAZD|        PA|   BL|     SUNSET/ALVARADO|00217|     1|          8070|PARK IN GRID LOCK ZN|        163|    99999|    99999|              NULL|             NULL|                NULL|\n",
      "|   1106500463|2015-12-17T00:00:...|      1710|    NULL|       NULL|            CA|           201602|NULL|TOYO|        PA|   BK|     SUNSET/ALVARADO|00217|     1|          8070|PARK IN GRID LOCK ZN|        163|    99999|    99999|              NULL|             NULL|                NULL|\n",
      "|   1106506402|2015-12-22T00:00:...|       945|    NULL|       NULL|            CA|           201605|NULL|CHEV|        PA|   BR|      721 S WESTLAKE| 2A75|     1|        8069AA|    NO STOP/STAND AM|         93|    99999|    99999|              NULL|             NULL|                NULL|\n",
      "|   1106506413|2015-12-22T00:00:...|      1100|    NULL|       NULL|            CA|           201701|NULL|NISS|        PA|   SI|     1159 HUNTLEY DR| 2A75|     1|        8069AA|    NO STOP/STAND AM|         93|    99999|    99999|              NULL|             NULL|                NULL|\n",
      "|   1106506424|2015-12-22T00:00:...|      1100|    NULL|       NULL|            CA|           201511|NULL|FORD|        TR|   WH|     1159 HUNTLEY DR| 2A75|     1|        8069AA|    NO STOP/STAND AM|         93|    99999|    99999|              NULL|             NULL|                NULL|\n",
      "|   1106506435|2015-12-22T00:00:...|      1105|    NULL|       NULL|            CA|           201701|NULL|CHRY|        PA|   GO|     1159 HUNTLEY DR| 2A75|     1|        8069AA|    NO STOP/STAND AM|         93|    99999|    99999|              NULL|             NULL|                NULL|\n",
      "|   1106506446|2015-12-22T00:00:...|      1110|    NULL|       NULL|            CA|           201511|NULL| BMW|        PA|   BK|      1200 W MIRAMAR| 2A75|     1|        4000A1|  NO EVIDENCE OF REG|         50|    99999|    99999|              NULL|             NULL|                NULL|\n",
      "|   1106549754|2015-12-15T00:00:...|       825|    NULL|       NULL|            CA|           201607|NULL|PTRB|        TR|   BK|           4TH/STATE| CM96|     1|         8069A|NO STOPPING/STANDING|         93|    99999|    99999|              NULL|             NULL|                NULL|\n",
      "|   1107179581|2015-12-27T00:00:...|      1055|    NULL|       NULL|            CA|           201605|NULL|TOYO|        PA|   BK|3100 N HOLLYRIDGE DR| NULL|    54|         8058L|        PREF PARKING|         68|    99999|    99999|              NULL|             NULL|                NULL|\n",
      "|   1107179592|2015-12-27T00:00:...|      1200|    NULL|       NULL|            CA|           201602|NULL|MBNZ|        PA|   BK|   3115 N BERENDO DR| NULL|    54|         8058L|        PREF PARKING|         68|    99999|    99999|              NULL|             NULL|                NULL|\n",
      "|   1107179603|2015-12-27T00:00:...|      1400|    NULL|       NULL|            CA|           201611|NULL|NISS|        PA|   WH| 3100 N BEACHWOOD DR| NULL|    54|         8058L|        PREF PARKING|         68|    99999|    99999|              NULL|             NULL|                NULL|\n",
      "|   1107539823|2015-09-16T00:00:...|      2120|    NULL|       NULL|            CA|           201502|NULL|NISS|        PA| NULL|      BLAINE/11TH PL|1FB95|     1|        4000A1|  NO EVIDENCE OF REG|         50|    99999|    99999|              NULL|             NULL|                NULL|\n",
      "|   1107539834|2015-09-16T00:00:...|      1045|    NULL|       NULL|            CA|             NULL|NULL|CHEV|        PA|   BK|  1246 S FIGUEROA ST| 1L20|     1|        8069AP|    NO STOP/STAND PM|         93|    99999|    99999|              NULL|             NULL|                NULL|\n",
      "+-------------+--------------------+----------+--------+-----------+--------------+-----------------+----+----+----------+-----+--------------------+-----+------+--------------+--------------------+-----------+---------+---------+------------------+-----------------+--------------------+\n",
      "only showing top 20 rows\n",
      "\n"
     ]
    },
    {
     "name": "stderr",
     "output_type": "stream",
     "text": [
      "24/02/21 22:01:22 INFO BlockManagerInfo: Added broadcast_3_piece0 in memory on 192.168.2.253:10005 (size: 34.4 KiB, free: 434.3 MiB)\n",
      "24/02/21 22:01:22 INFO TaskSetManager: Finished task 0.0 in stage 1.0 (TID 1) in 306 ms on 192.168.2.253 (executor 0) (1/1)\n",
      "24/02/21 22:01:22 INFO TaskSchedulerImpl: Removed TaskSet 1.0, whose tasks have all completed, from pool \n",
      "24/02/21 22:01:22 INFO DAGScheduler: ResultStage 1 (showString at NativeMethodAccessorImpl.java:0) finished in 0.320 s\n",
      "24/02/21 22:01:22 INFO DAGScheduler: Job 1 is finished. Cancelling potential speculative or zombie tasks for this job\n",
      "24/02/21 22:01:22 INFO TaskSchedulerImpl: Killing all running tasks in stage 1: Stage finished\n",
      "24/02/21 22:01:22 INFO DAGScheduler: Job 1 finished: showString at NativeMethodAccessorImpl.java:0, took 0.325018 s\n",
      "24/02/21 22:01:22 INFO CodeGenerator: Code generated in 27.794633 ms\n"
     ]
    }
   ],
   "source": [
    "CSV = spark_session.read.csv('hdfs://192.168.2.250:9000/parking-citations.csv')\n",
    "CSV.show()"
   ]
  },
  {
   "cell_type": "code",
   "execution_count": 3,
   "id": "bc2536af-a8f2-4a8c-a06b-c5f756e28605",
   "metadata": {},
   "outputs": [
    {
     "name": "stdout",
     "output_type": "stream",
     "text": [
      "root\n",
      " |-- _c0: string (nullable = true)\n",
      " |-- _c1: string (nullable = true)\n",
      " |-- _c2: string (nullable = true)\n",
      " |-- _c3: string (nullable = true)\n",
      " |-- _c4: string (nullable = true)\n",
      " |-- _c5: string (nullable = true)\n",
      " |-- _c6: string (nullable = true)\n",
      " |-- _c7: string (nullable = true)\n",
      " |-- _c8: string (nullable = true)\n",
      " |-- _c9: string (nullable = true)\n",
      " |-- _c10: string (nullable = true)\n",
      " |-- _c11: string (nullable = true)\n",
      " |-- _c12: string (nullable = true)\n",
      " |-- _c13: string (nullable = true)\n",
      " |-- _c14: string (nullable = true)\n",
      " |-- _c15: string (nullable = true)\n",
      " |-- _c16: string (nullable = true)\n",
      " |-- _c17: string (nullable = true)\n",
      " |-- _c18: string (nullable = true)\n",
      " |-- _c19: string (nullable = true)\n",
      " |-- _c20: string (nullable = true)\n",
      " |-- _c21: string (nullable = true)\n",
      "\n"
     ]
    }
   ],
   "source": [
    "CSV.printSchema()"
   ]
  },
  {
   "cell_type": "code",
   "execution_count": 4,
   "id": "0360d6c9-1740-4d08-b965-f2f3ad5a8763",
   "metadata": {},
   "outputs": [
    {
     "name": "stderr",
     "output_type": "stream",
     "text": [
      "24/02/21 22:01:22 INFO FileSourceStrategy: Pushed Filters: \n",
      "24/02/21 22:01:22 INFO FileSourceStrategy: Post-Scan Filters: \n",
      "24/02/21 22:01:22 INFO CodeGenerator: Code generated in 9.10782 ms\n",
      "24/02/21 22:01:22 INFO MemoryStore: Block broadcast_5 stored as values in memory (estimated size 200.3 KiB, free 433.7 MiB)\n",
      "24/02/21 22:01:22 INFO BlockManagerInfo: Removed broadcast_4_piece0 on host-192-168-2-170-de1:10006 in memory (size: 9.2 KiB, free: 434.3 MiB)\n",
      "24/02/21 22:01:22 INFO BlockManagerInfo: Removed broadcast_4_piece0 on 192.168.2.253:10005 in memory (size: 9.2 KiB, free: 434.3 MiB)\n",
      "24/02/21 22:01:22 INFO MemoryStore: Block broadcast_5_piece0 stored as bytes in memory (estimated size 34.4 KiB, free 433.7 MiB)\n",
      "24/02/21 22:01:22 INFO BlockManagerInfo: Added broadcast_5_piece0 in memory on host-192-168-2-170-de1:10006 (size: 34.4 KiB, free: 434.3 MiB)\n",
      "24/02/21 22:01:22 INFO SparkContext: Created broadcast 5 from count at NativeMethodAccessorImpl.java:0\n",
      "24/02/21 22:01:22 INFO FileSourceScanExec: Planning scan with bin packing, max size: 134217728 bytes, open cost is considered as scanning 4194304 bytes.\n",
      "24/02/21 22:01:22 INFO BlockManagerInfo: Removed broadcast_3_piece0 on 192.168.2.253:10005 in memory (size: 34.4 KiB, free: 434.4 MiB)\n",
      "24/02/21 22:01:22 INFO DAGScheduler: Registering RDD 17 (count at NativeMethodAccessorImpl.java:0) as input to shuffle 0\n",
      "24/02/21 22:01:22 INFO DAGScheduler: Got map stage job 2 (count at NativeMethodAccessorImpl.java:0) with 16 output partitions\n",
      "24/02/21 22:01:22 INFO DAGScheduler: Final stage: ShuffleMapStage 2 (count at NativeMethodAccessorImpl.java:0)\n",
      "24/02/21 22:01:22 INFO DAGScheduler: Parents of final stage: List()\n",
      "24/02/21 22:01:22 INFO BlockManagerInfo: Removed broadcast_3_piece0 on host-192-168-2-170-de1:10006 in memory (size: 34.4 KiB, free: 434.3 MiB)\n",
      "24/02/21 22:01:22 INFO DAGScheduler: Missing parents: List()\n",
      "24/02/21 22:01:22 INFO DAGScheduler: Submitting ShuffleMapStage 2 (MapPartitionsRDD[17] at count at NativeMethodAccessorImpl.java:0), which has no missing parents\n",
      "24/02/21 22:01:22 INFO MemoryStore: Block broadcast_6 stored as values in memory (estimated size 18.3 KiB, free 433.9 MiB)\n",
      "24/02/21 22:01:22 INFO MemoryStore: Block broadcast_6_piece0 stored as bytes in memory (estimated size 8.9 KiB, free 433.9 MiB)\n",
      "24/02/21 22:01:22 INFO BlockManagerInfo: Added broadcast_6_piece0 in memory on host-192-168-2-170-de1:10006 (size: 8.9 KiB, free: 434.3 MiB)\n",
      "24/02/21 22:01:22 INFO SparkContext: Created broadcast 6 from broadcast at DAGScheduler.scala:1580\n",
      "24/02/21 22:01:22 INFO DAGScheduler: Submitting 16 missing tasks from ShuffleMapStage 2 (MapPartitionsRDD[17] at count at NativeMethodAccessorImpl.java:0) (first 15 tasks are for partitions Vector(0, 1, 2, 3, 4, 5, 6, 7, 8, 9, 10, 11, 12, 13, 14))\n",
      "24/02/21 22:01:22 INFO TaskSchedulerImpl: Adding task set 2.0 with 16 tasks resource profile 0\n",
      "24/02/21 22:01:22 INFO TaskSetManager: Starting task 0.0 in stage 2.0 (TID 2) (192.168.2.253, executor 0, partition 0, ANY, 8218 bytes) \n",
      "24/02/21 22:01:22 INFO TaskSetManager: Starting task 1.0 in stage 2.0 (TID 3) (192.168.2.253, executor 0, partition 1, ANY, 8218 bytes) \n",
      "24/02/21 22:01:22 INFO TaskSetManager: Starting task 2.0 in stage 2.0 (TID 4) (192.168.2.253, executor 0, partition 2, ANY, 8218 bytes) \n",
      "24/02/21 22:01:22 INFO TaskSetManager: Starting task 3.0 in stage 2.0 (TID 5) (192.168.2.253, executor 0, partition 3, ANY, 8218 bytes) \n",
      "24/02/21 22:01:22 INFO TaskSetManager: Starting task 4.0 in stage 2.0 (TID 6) (192.168.2.253, executor 0, partition 4, ANY, 8218 bytes) \n",
      "24/02/21 22:01:22 INFO TaskSetManager: Starting task 5.0 in stage 2.0 (TID 7) (192.168.2.253, executor 0, partition 5, ANY, 8218 bytes) \n",
      "24/02/21 22:01:22 INFO TaskSetManager: Starting task 6.0 in stage 2.0 (TID 8) (192.168.2.253, executor 0, partition 6, ANY, 8218 bytes) \n",
      "24/02/21 22:01:22 INFO TaskSetManager: Starting task 7.0 in stage 2.0 (TID 9) (192.168.2.253, executor 0, partition 7, ANY, 8218 bytes) \n",
      "24/02/21 22:01:22 INFO BlockManagerInfo: Added broadcast_6_piece0 in memory on 192.168.2.253:10005 (size: 8.9 KiB, free: 434.4 MiB)\n",
      "24/02/21 22:01:23 INFO BlockManagerInfo: Added broadcast_5_piece0 in memory on 192.168.2.253:10005 (size: 34.4 KiB, free: 434.3 MiB)\n",
      "24/02/21 22:01:23 INFO StandaloneAppClient$ClientEndpoint: Executor added: app-20240221220113-1392/1 on worker-20240203230504-192.168.2.249-41269 (192.168.2.249:41269) with 8 core(s)\n",
      "24/02/21 22:01:23 INFO StandaloneSchedulerBackend: Granted executor ID app-20240221220113-1392/1 on hostPort 192.168.2.249:41269 with 8 core(s), 1024.0 MiB RAM\n",
      "24/02/21 22:01:23 INFO ExecutorAllocationManager: Requesting 2 new executors because tasks are backlogged (new desired total will be 2 for resource profile id: 0)\n",
      "24/02/21 22:01:24 INFO StandaloneAppClient$ClientEndpoint: Executor updated: app-20240221220113-1392/1 is now RUNNING\n",
      "24/02/21 22:01:24 INFO TaskSetManager: Starting task 8.0 in stage 2.0 (TID 10) (192.168.2.253, executor 0, partition 8, ANY, 8218 bytes) \n",
      "24/02/21 22:01:24 INFO TaskSetManager: Finished task 1.0 in stage 2.0 (TID 3) in 1461 ms on 192.168.2.253 (executor 0) (1/16)\n",
      "24/02/21 22:01:24 INFO TaskSetManager: Starting task 9.0 in stage 2.0 (TID 11) (192.168.2.253, executor 0, partition 9, ANY, 8218 bytes) \n",
      "24/02/21 22:01:24 INFO TaskSetManager: Finished task 7.0 in stage 2.0 (TID 9) in 1498 ms on 192.168.2.253 (executor 0) (2/16)\n",
      "24/02/21 22:01:24 INFO TaskSetManager: Starting task 10.0 in stage 2.0 (TID 12) (192.168.2.253, executor 0, partition 10, ANY, 8218 bytes) \n",
      "24/02/21 22:01:24 INFO TaskSetManager: Finished task 2.0 in stage 2.0 (TID 4) in 1568 ms on 192.168.2.253 (executor 0) (3/16)\n",
      "24/02/21 22:01:24 INFO TaskSetManager: Starting task 11.0 in stage 2.0 (TID 13) (192.168.2.253, executor 0, partition 11, ANY, 8218 bytes) \n",
      "24/02/21 22:01:24 INFO TaskSetManager: Starting task 12.0 in stage 2.0 (TID 14) (192.168.2.253, executor 0, partition 12, ANY, 8218 bytes) \n",
      "24/02/21 22:01:24 INFO TaskSetManager: Finished task 3.0 in stage 2.0 (TID 5) in 1573 ms on 192.168.2.253 (executor 0) (4/16)\n",
      "24/02/21 22:01:24 INFO TaskSetManager: Finished task 6.0 in stage 2.0 (TID 8) in 1573 ms on 192.168.2.253 (executor 0) (5/16)\n",
      "24/02/21 22:01:24 INFO TaskSetManager: Finished task 0.0 in stage 2.0 (TID 2) in 1580 ms on 192.168.2.253 (executor 0) (6/16)\n",
      "24/02/21 22:01:24 INFO TaskSetManager: Starting task 13.0 in stage 2.0 (TID 15) (192.168.2.253, executor 0, partition 13, ANY, 8218 bytes) \n",
      "24/02/21 22:01:24 INFO TaskSetManager: Finished task 4.0 in stage 2.0 (TID 6) in 1580 ms on 192.168.2.253 (executor 0) (7/16)\n",
      "24/02/21 22:01:24 INFO TaskSetManager: Starting task 14.0 in stage 2.0 (TID 16) (192.168.2.253, executor 0, partition 14, ANY, 8218 bytes) \n",
      "24/02/21 22:01:24 INFO TaskSetManager: Starting task 15.0 in stage 2.0 (TID 17) (192.168.2.253, executor 0, partition 15, ANY, 8218 bytes) \n",
      "24/02/21 22:01:24 INFO TaskSetManager: Finished task 5.0 in stage 2.0 (TID 7) in 1608 ms on 192.168.2.253 (executor 0) (8/16)\n",
      "24/02/21 22:01:24 INFO TaskSetManager: Finished task 15.0 in stage 2.0 (TID 17) in 444 ms on 192.168.2.253 (executor 0) (9/16)\n",
      "24/02/21 22:01:25 INFO TaskSetManager: Finished task 8.0 in stage 2.0 (TID 10) in 828 ms on 192.168.2.253 (executor 0) (10/16)\n",
      "24/02/21 22:01:25 INFO TaskSetManager: Finished task 9.0 in stage 2.0 (TID 11) in 968 ms on 192.168.2.253 (executor 0) (11/16)\n",
      "24/02/21 22:01:25 INFO TaskSetManager: Finished task 14.0 in stage 2.0 (TID 16) in 1068 ms on 192.168.2.253 (executor 0) (12/16)\n",
      "24/02/21 22:01:25 INFO TaskSetManager: Finished task 10.0 in stage 2.0 (TID 12) in 1100 ms on 192.168.2.253 (executor 0) (13/16)\n",
      "24/02/21 22:01:25 INFO TaskSetManager: Finished task 13.0 in stage 2.0 (TID 15) in 1103 ms on 192.168.2.253 (executor 0) (14/16)\n",
      "24/02/21 22:01:25 INFO TaskSetManager: Finished task 11.0 in stage 2.0 (TID 13) in 1114 ms on 192.168.2.253 (executor 0) (15/16)\n",
      "24/02/21 22:01:25 INFO TaskSetManager: Finished task 12.0 in stage 2.0 (TID 14) in 1146 ms on 192.168.2.253 (executor 0) (16/16)\n",
      "24/02/21 22:01:25 INFO TaskSchedulerImpl: Removed TaskSet 2.0, whose tasks have all completed, from pool \n",
      "24/02/21 22:01:25 INFO DAGScheduler: ShuffleMapStage 2 (count at NativeMethodAccessorImpl.java:0) finished in 2.743 s\n",
      "24/02/21 22:01:25 INFO DAGScheduler: looking for newly runnable stages\n",
      "24/02/21 22:01:25 INFO DAGScheduler: running: Set()\n",
      "24/02/21 22:01:25 INFO DAGScheduler: waiting: Set()\n",
      "24/02/21 22:01:25 INFO DAGScheduler: failed: Set()\n",
      "24/02/21 22:01:25 INFO CodeGenerator: Code generated in 10.491818 ms\n",
      "24/02/21 22:01:25 INFO SparkContext: Starting job: count at NativeMethodAccessorImpl.java:0\n",
      "24/02/21 22:01:25 INFO DAGScheduler: Got job 3 (count at NativeMethodAccessorImpl.java:0) with 1 output partitions\n",
      "24/02/21 22:01:25 INFO DAGScheduler: Final stage: ResultStage 4 (count at NativeMethodAccessorImpl.java:0)\n",
      "24/02/21 22:01:25 INFO DAGScheduler: Parents of final stage: List(ShuffleMapStage 3)\n",
      "24/02/21 22:01:25 INFO DAGScheduler: Missing parents: List()\n",
      "24/02/21 22:01:25 INFO DAGScheduler: Submitting ResultStage 4 (MapPartitionsRDD[20] at count at NativeMethodAccessorImpl.java:0), which has no missing parents\n",
      "24/02/21 22:01:25 INFO MemoryStore: Block broadcast_7 stored as values in memory (estimated size 12.5 KiB, free 433.9 MiB)\n",
      "24/02/21 22:01:25 INFO MemoryStore: Block broadcast_7_piece0 stored as bytes in memory (estimated size 5.9 KiB, free 433.9 MiB)\n",
      "24/02/21 22:01:25 INFO BlockManagerInfo: Removed broadcast_6_piece0 on host-192-168-2-170-de1:10006 in memory (size: 8.9 KiB, free: 434.3 MiB)\n",
      "24/02/21 22:01:25 INFO BlockManagerInfo: Added broadcast_7_piece0 in memory on host-192-168-2-170-de1:10006 (size: 5.9 KiB, free: 434.3 MiB)\n",
      "24/02/21 22:01:25 INFO SparkContext: Created broadcast 7 from broadcast at DAGScheduler.scala:1580\n",
      "24/02/21 22:01:25 INFO DAGScheduler: Submitting 1 missing tasks from ResultStage 4 (MapPartitionsRDD[20] at count at NativeMethodAccessorImpl.java:0) (first 15 tasks are for partitions Vector(0))\n",
      "24/02/21 22:01:25 INFO TaskSchedulerImpl: Adding task set 4.0 with 1 tasks resource profile 0\n",
      "24/02/21 22:01:25 INFO TaskSetManager: Starting task 0.0 in stage 4.0 (TID 18) (192.168.2.253, executor 0, partition 0, NODE_LOCAL, 7619 bytes) \n",
      "24/02/21 22:01:25 INFO BlockManagerInfo: Removed broadcast_6_piece0 on 192.168.2.253:10005 in memory (size: 8.9 KiB, free: 434.3 MiB)\n",
      "24/02/21 22:01:25 INFO BlockManagerInfo: Added broadcast_7_piece0 in memory on 192.168.2.253:10005 (size: 5.9 KiB, free: 434.3 MiB)\n",
      "24/02/21 22:01:25 INFO MapOutputTrackerMasterEndpoint: Asked to send map output locations for shuffle 0 to 192.168.2.253:48826\n",
      "24/02/21 22:01:25 INFO TaskSetManager: Finished task 0.0 in stage 4.0 (TID 18) in 125 ms on 192.168.2.253 (executor 0) (1/1)\n",
      "24/02/21 22:01:25 INFO TaskSchedulerImpl: Removed TaskSet 4.0, whose tasks have all completed, from pool \n",
      "24/02/21 22:01:25 INFO DAGScheduler: ResultStage 4 (count at NativeMethodAccessorImpl.java:0) finished in 0.139 s\n",
      "24/02/21 22:01:25 INFO DAGScheduler: Job 3 is finished. Cancelling potential speculative or zombie tasks for this job\n",
      "24/02/21 22:01:25 INFO TaskSchedulerImpl: Killing all running tasks in stage 4: Stage finished\n",
      "24/02/21 22:01:25 INFO DAGScheduler: Job 3 finished: count at NativeMethodAccessorImpl.java:0, took 0.146612 s\n",
      "                                                                                \r"
     ]
    },
    {
     "data": {
      "text/plain": [
       "13077725"
      ]
     },
     "execution_count": 4,
     "metadata": {},
     "output_type": "execute_result"
    }
   ],
   "source": [
    "CSV.count()"
   ]
  },
  {
   "cell_type": "code",
   "execution_count": 5,
   "id": "02fbbf4f-69ae-4425-bcab-364c16fded47",
   "metadata": {},
   "outputs": [
    {
     "name": "stdout",
     "output_type": "stream",
     "text": [
      "16\n"
     ]
    },
    {
     "name": "stderr",
     "output_type": "stream",
     "text": [
      "24/02/21 22:01:25 INFO FileSourceStrategy: Pushed Filters: \n",
      "24/02/21 22:01:25 INFO FileSourceStrategy: Post-Scan Filters: \n",
      "24/02/21 22:01:25 INFO StandaloneSchedulerBackend$StandaloneDriverEndpoint: Registered executor NettyRpcEndpointRef(spark-client://Executor) (192.168.2.249:57442) with ID 1,  ResourceProfileId 0\n",
      "24/02/21 22:01:25 INFO ExecutorMonitor: New executor 1 has registered (new total is 2)\n",
      "24/02/21 22:01:25 INFO MemoryStore: Block broadcast_8 stored as values in memory (estimated size 200.3 KiB, free 433.7 MiB)\n",
      "24/02/21 22:01:25 INFO MemoryStore: Block broadcast_8_piece0 stored as bytes in memory (estimated size 34.4 KiB, free 433.7 MiB)\n",
      "24/02/21 22:01:25 INFO BlockManagerInfo: Added broadcast_8_piece0 in memory on host-192-168-2-170-de1:10006 (size: 34.4 KiB, free: 434.3 MiB)\n",
      "24/02/21 22:01:25 INFO SparkContext: Created broadcast 8 from javaToPython at NativeMethodAccessorImpl.java:0\n",
      "24/02/21 22:01:25 INFO FileSourceScanExec: Planning scan with bin packing, max size: 127712128 bytes, open cost is considered as scanning 4194304 bytes.\n"
     ]
    }
   ],
   "source": [
    "rdd = CSV.rdd\n",
    "numParts = rdd.getNumPartitions()\n",
    "print(numParts)"
   ]
  },
  {
   "cell_type": "code",
   "execution_count": 16,
   "id": "5edefeae-9393-4cc5-b63f-b8b7ad675a94",
   "metadata": {},
   "outputs": [
    {
     "data": {
      "text/plain": [
       "DataFrame[_c0: string, _c1: string, _c2: string, _c3: string, _c4: string, _c5: string, _c6: string, _c7: string, _c8: string, _c9: string, _c10: string, _c11: string, _c12: string, _c13: string, _c14: string, _c15: string, _c16: string, _c17: string, _c18: string, _c19: string, _c20: string, _c21: string]"
      ]
     },
     "execution_count": 16,
     "metadata": {},
     "output_type": "execute_result"
    }
   ],
   "source": [
    "dropCols = [\"VIN\", \"Latitude\", \"Longitude\"]\n",
    "CSV.drop(\"VIN\", \"Latitude\", \"Longitude\")\n",
    "# This should work according to documentation and StackOverflow, however it does not"
   ]
  },
  {
   "cell_type": "code",
   "execution_count": 18,
   "id": "c741266d-a82c-4ef0-89e7-7a5b53e6d7de",
   "metadata": {
    "scrolled": true
   },
   "outputs": [
    {
     "name": "stdout",
     "output_type": "stream",
     "text": [
      "+-------------+--------------------+----------+--------+-----------+--------------+-----------------+----+----+----------+-----+--------------------+-----+------+--------------+--------------------+-----------+---------+---------+------------------+-----------------+--------------------+\n",
      "|          _c0|                 _c1|       _c2|     _c3|        _c4|           _c5|              _c6| _c7| _c8|       _c9| _c10|                _c11| _c12|  _c13|          _c14|                _c15|       _c16|     _c17|     _c18|              _c19|             _c20|                _c21|\n",
      "+-------------+--------------------+----------+--------+-----------+--------------+-----------------+----+----+----------+-----+--------------------+-----+------+--------------+--------------------+-----------+---------+---------+------------------+-----------------+--------------------+\n",
      "|Ticket number|          Issue Date|Issue time|Meter Id|Marked Time|RP State Plate|Plate Expiry Date| VIN|Make|Body Style|Color|            Location|Route|Agency|Violation code|Violation Descrip...|Fine amount| Latitude|Longitude|Agency Description|Color Description|Body Style Descri...|\n",
      "|   1103341116|2015-12-21T00:00:...|      1251|    NULL|       NULL|            CA|           200304|NULL|HOND|        PA|   GY|     13147 WELBY WAY|01521|     1|        4000A1|  NO EVIDENCE OF REG|         50|    99999|    99999|              NULL|             NULL|                NULL|\n",
      "|   1103700150|2015-12-21T00:00:...|      1435|    NULL|       NULL|            CA|           201512|NULL| GMC|        VN|   WH|       525 S MAIN ST| 1C51|     1|        4000A1|  NO EVIDENCE OF REG|         50|    99999|    99999|              NULL|             NULL|                NULL|\n",
      "|   1104803000|2015-12-21T00:00:...|      2055|    NULL|       NULL|            CA|           201503|NULL|NISS|        PA|   BK|       200 WORLD WAY|  2R2|     2|          8939|          WHITE CURB|         58|6439997.9|1802686.4|              NULL|             NULL|                NULL|\n",
      "|   1104820732|2015-12-26T00:00:...|      1515|    NULL|       NULL|            CA|             NULL|NULL|ACUR|        PA|   WH|       100 WORLD WAY| 2F11|     2|           000|              17104h|       NULL|6440041.1|1802686.2|              NULL|             NULL|                NULL|\n",
      "|   1105461453|2015-09-15T00:00:...|       115|    NULL|       NULL|            CA|           200316|NULL|CHEV|        PA|   BK|  GEORGIA ST/OLYMPIC|1FB70|     1|         8069A|NO STOPPING/STANDING|         93|    99999|    99999|              NULL|             NULL|                NULL|\n",
      "|   1106226590|2015-09-15T00:00:...|        19|    NULL|       NULL|            CA|           201507|NULL|CHEV|        VN|   GY|  SAN PEDRO S/O BOYD|1A35W|     1|        4000A1|  NO EVIDENCE OF REG|         50|    99999|    99999|              NULL|             NULL|                NULL|\n",
      "|   1106500452|2015-12-17T00:00:...|      1710|    NULL|       NULL|            CA|           201605|NULL|MAZD|        PA|   BL|     SUNSET/ALVARADO|00217|     1|          8070|PARK IN GRID LOCK ZN|        163|    99999|    99999|              NULL|             NULL|                NULL|\n",
      "|   1106500463|2015-12-17T00:00:...|      1710|    NULL|       NULL|            CA|           201602|NULL|TOYO|        PA|   BK|     SUNSET/ALVARADO|00217|     1|          8070|PARK IN GRID LOCK ZN|        163|    99999|    99999|              NULL|             NULL|                NULL|\n",
      "|   1106506402|2015-12-22T00:00:...|       945|    NULL|       NULL|            CA|           201605|NULL|CHEV|        PA|   BR|      721 S WESTLAKE| 2A75|     1|        8069AA|    NO STOP/STAND AM|         93|    99999|    99999|              NULL|             NULL|                NULL|\n",
      "|   1106506413|2015-12-22T00:00:...|      1100|    NULL|       NULL|            CA|           201701|NULL|NISS|        PA|   SI|     1159 HUNTLEY DR| 2A75|     1|        8069AA|    NO STOP/STAND AM|         93|    99999|    99999|              NULL|             NULL|                NULL|\n",
      "|   1106506424|2015-12-22T00:00:...|      1100|    NULL|       NULL|            CA|           201511|NULL|FORD|        TR|   WH|     1159 HUNTLEY DR| 2A75|     1|        8069AA|    NO STOP/STAND AM|         93|    99999|    99999|              NULL|             NULL|                NULL|\n",
      "|   1106506435|2015-12-22T00:00:...|      1105|    NULL|       NULL|            CA|           201701|NULL|CHRY|        PA|   GO|     1159 HUNTLEY DR| 2A75|     1|        8069AA|    NO STOP/STAND AM|         93|    99999|    99999|              NULL|             NULL|                NULL|\n",
      "|   1106506446|2015-12-22T00:00:...|      1110|    NULL|       NULL|            CA|           201511|NULL| BMW|        PA|   BK|      1200 W MIRAMAR| 2A75|     1|        4000A1|  NO EVIDENCE OF REG|         50|    99999|    99999|              NULL|             NULL|                NULL|\n",
      "|   1106549754|2015-12-15T00:00:...|       825|    NULL|       NULL|            CA|           201607|NULL|PTRB|        TR|   BK|           4TH/STATE| CM96|     1|         8069A|NO STOPPING/STANDING|         93|    99999|    99999|              NULL|             NULL|                NULL|\n",
      "|   1107179581|2015-12-27T00:00:...|      1055|    NULL|       NULL|            CA|           201605|NULL|TOYO|        PA|   BK|3100 N HOLLYRIDGE DR| NULL|    54|         8058L|        PREF PARKING|         68|    99999|    99999|              NULL|             NULL|                NULL|\n",
      "|   1107179592|2015-12-27T00:00:...|      1200|    NULL|       NULL|            CA|           201602|NULL|MBNZ|        PA|   BK|   3115 N BERENDO DR| NULL|    54|         8058L|        PREF PARKING|         68|    99999|    99999|              NULL|             NULL|                NULL|\n",
      "|   1107179603|2015-12-27T00:00:...|      1400|    NULL|       NULL|            CA|           201611|NULL|NISS|        PA|   WH| 3100 N BEACHWOOD DR| NULL|    54|         8058L|        PREF PARKING|         68|    99999|    99999|              NULL|             NULL|                NULL|\n",
      "|   1107539823|2015-09-16T00:00:...|      2120|    NULL|       NULL|            CA|           201502|NULL|NISS|        PA| NULL|      BLAINE/11TH PL|1FB95|     1|        4000A1|  NO EVIDENCE OF REG|         50|    99999|    99999|              NULL|             NULL|                NULL|\n",
      "|   1107539834|2015-09-16T00:00:...|      1045|    NULL|       NULL|            CA|             NULL|NULL|CHEV|        PA|   BK|  1246 S FIGUEROA ST| 1L20|     1|        8069AP|    NO STOP/STAND PM|         93|    99999|    99999|              NULL|             NULL|                NULL|\n",
      "+-------------+--------------------+----------+--------+-----------+--------------+-----------------+----+----+----------+-----+--------------------+-----+------+--------------+--------------------+-----------+---------+---------+------------------+-----------------+--------------------+\n",
      "only showing top 20 rows\n",
      "\n"
     ]
    },
    {
     "name": "stderr",
     "output_type": "stream",
     "text": [
      "24/02/21 22:07:44 INFO FileSourceStrategy: Pushed Filters: \n",
      "24/02/21 22:07:44 INFO FileSourceStrategy: Post-Scan Filters: \n",
      "24/02/21 22:07:44 INFO MemoryStore: Block broadcast_21 stored as values in memory (estimated size 200.3 KiB, free 433.5 MiB)\n",
      "24/02/21 22:07:44 INFO MemoryStore: Block broadcast_21_piece0 stored as bytes in memory (estimated size 34.4 KiB, free 433.4 MiB)\n",
      "24/02/21 22:07:44 INFO BlockManagerInfo: Added broadcast_21_piece0 in memory on host-192-168-2-170-de1:10006 (size: 34.4 KiB, free: 434.3 MiB)\n",
      "24/02/21 22:07:44 INFO SparkContext: Created broadcast 21 from showString at NativeMethodAccessorImpl.java:0\n",
      "24/02/21 22:07:44 INFO FileSourceScanExec: Planning scan with bin packing, max size: 134217728 bytes, open cost is considered as scanning 4194304 bytes.\n",
      "24/02/21 22:07:44 INFO SparkContext: Starting job: showString at NativeMethodAccessorImpl.java:0\n",
      "24/02/21 22:07:44 INFO DAGScheduler: Got job 10 (showString at NativeMethodAccessorImpl.java:0) with 1 output partitions\n",
      "24/02/21 22:07:44 INFO DAGScheduler: Final stage: ResultStage 11 (showString at NativeMethodAccessorImpl.java:0)\n",
      "24/02/21 22:07:44 INFO DAGScheduler: Parents of final stage: List()\n",
      "24/02/21 22:07:44 INFO DAGScheduler: Missing parents: List()\n",
      "24/02/21 22:07:44 INFO DAGScheduler: Submitting ResultStage 11 (MapPartitionsRDD[53] at showString at NativeMethodAccessorImpl.java:0), which has no missing parents\n",
      "24/02/21 22:07:44 INFO MemoryStore: Block broadcast_22 stored as values in memory (estimated size 24.9 KiB, free 433.4 MiB)\n",
      "24/02/21 22:07:44 INFO MemoryStore: Block broadcast_22_piece0 stored as bytes in memory (estimated size 9.3 KiB, free 433.4 MiB)\n",
      "24/02/21 22:07:44 INFO BlockManagerInfo: Added broadcast_22_piece0 in memory on host-192-168-2-170-de1:10006 (size: 9.3 KiB, free: 434.2 MiB)\n",
      "24/02/21 22:07:44 INFO SparkContext: Created broadcast 22 from broadcast at DAGScheduler.scala:1580\n",
      "24/02/21 22:07:44 INFO DAGScheduler: Submitting 1 missing tasks from ResultStage 11 (MapPartitionsRDD[53] at showString at NativeMethodAccessorImpl.java:0) (first 15 tasks are for partitions Vector(0))\n",
      "24/02/21 22:07:44 INFO TaskSchedulerImpl: Adding task set 11.0 with 1 tasks resource profile 0\n",
      "24/02/21 22:07:44 INFO TaskSetManager: Starting task 0.0 in stage 11.0 (TID 25) (192.168.2.253, executor 4, partition 0, ANY, 8229 bytes) \n",
      "24/02/21 22:07:44 INFO BlockManagerInfo: Added broadcast_22_piece0 in memory on 192.168.2.253:10009 (size: 9.3 KiB, free: 434.3 MiB)\n",
      "24/02/21 22:07:44 INFO BlockManagerInfo: Added broadcast_21_piece0 in memory on 192.168.2.253:10009 (size: 34.4 KiB, free: 434.3 MiB)\n",
      "24/02/21 22:07:44 INFO TaskSetManager: Finished task 0.0 in stage 11.0 (TID 25) in 110 ms on 192.168.2.253 (executor 4) (1/1)\n",
      "24/02/21 22:07:44 INFO TaskSchedulerImpl: Removed TaskSet 11.0, whose tasks have all completed, from pool \n",
      "24/02/21 22:07:44 INFO DAGScheduler: ResultStage 11 (showString at NativeMethodAccessorImpl.java:0) finished in 0.116 s\n",
      "24/02/21 22:07:44 INFO DAGScheduler: Job 10 is finished. Cancelling potential speculative or zombie tasks for this job\n",
      "24/02/21 22:07:44 INFO TaskSchedulerImpl: Killing all running tasks in stage 11: Stage finished\n",
      "24/02/21 22:07:44 INFO DAGScheduler: Job 10 finished: showString at NativeMethodAccessorImpl.java:0, took 0.119084 s\n",
      "24/02/21 22:08:14 INFO StandaloneSchedulerBackend: Requesting to kill executor(s) 4\n",
      "24/02/21 22:08:14 INFO StandaloneSchedulerBackend: Actual list of executor(s) to be killed is 4\n",
      "24/02/21 22:08:14 INFO ExecutorAllocationManager: Executors 4 removed due to idle timeout.\n",
      "24/02/21 22:08:19 INFO TaskSchedulerImpl: Executor 4 on 192.168.2.253 killed by driver.\n",
      "24/02/21 22:08:19 INFO DAGScheduler: Executor lost: 4 (epoch 5)\n",
      "24/02/21 22:08:19 INFO BlockManagerMasterEndpoint: Trying to remove executor 4 from BlockManagerMaster.\n",
      "24/02/21 22:08:19 INFO ExecutorMonitor: Executor 4 is removed. Remove reason statistics: (gracefully decommissioned: 0, decommision unfinished: 0, driver killed: 5, unexpectedly exited: 0).\n",
      "24/02/21 22:08:19 INFO BlockManagerMasterEndpoint: Removing block manager BlockManagerId(4, 192.168.2.253, 10009, None)\n",
      "24/02/21 22:08:19 INFO BlockManagerMaster: Removed 4 successfully in removeExecutor\n",
      "24/02/21 22:08:19 INFO DAGScheduler: Shuffle files lost for executor: 4 (epoch 5)\n"
     ]
    }
   ],
   "source": [
    "CSV.show()"
   ]
  },
  {
   "cell_type": "code",
   "execution_count": null,
   "id": "eca69e2f-a233-42c1-a98f-c243f9ecaeee",
   "metadata": {},
   "outputs": [],
   "source": []
  }
 ],
 "metadata": {
  "kernelspec": {
   "display_name": "Python 3 (ipykernel)",
   "language": "python",
   "name": "python3"
  },
  "language_info": {
   "codemirror_mode": {
    "name": "ipython",
    "version": 3
   },
   "file_extension": ".py",
   "mimetype": "text/x-python",
   "name": "python",
   "nbconvert_exporter": "python",
   "pygments_lexer": "ipython3",
   "version": "3.8.10"
  }
 },
 "nbformat": 4,
 "nbformat_minor": 5
}
